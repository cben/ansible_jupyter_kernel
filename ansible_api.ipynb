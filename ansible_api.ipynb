{
 "cells": [
  {
   "cell_type": "markdown",
   "metadata": {},
   "source": [
    "# Playing with ansible API"
   ]
  },
  {
   "cell_type": "markdown",
   "metadata": {},
   "source": [
    "- https://docs.ansible.com/ansible/dev_guide/developing_api.html\n",
    "\n",
    "- https://www.ansible.com/blog/how-to-extend-ansible-through-plugins — excellent overview of ansible extension points\n",
    "\n",
    "- <img alt=\"Extending Ansible cover\" src=\"Extending_Ansible_cover.jpg\" style=\"width: 20%; float: right\">\n",
    "  [*Extending Ansible* book][3] by Rishabh Das (2016, I think describes pre-2.0?)  \n",
    "  Free sample including API chapter at https://www.ansible.com/extending-ansible\n",
    "\n",
    "- [`lib/ansible/adhoc.py`][1] and [`lib/ansible/playbook.py`][2] are simple usage examples.\n",
    "\n",
    "[1]: https://github.com/ansible/ansible/blob/devel/lib/ansible/cli/adhoc.py\n",
    "[2]: https://github.com/ansible/ansible/blob/devel/lib/ansible/cli/playbook.py\n",
    "[3]: https://www.packtpub.com/networking-and-servers/extending-ansible"
   ]
  },
  {
   "cell_type": "code",
   "execution_count": 1,
   "metadata": {
    "collapsed": true
   },
   "outputs": [],
   "source": [
    "from ansible import constants as C\n",
    "from ansible.cli import CLI\n",
    "from ansible.errors import AnsibleError, AnsibleOptionsError, AnsibleParserError\n",
    "from ansible.executor.task_queue_manager import TaskQueueManager\n",
    "from ansible.inventory import Inventory\n",
    "#from ansible.module_utils._text import to_text\n",
    "from ansible.parsing.dataloader import DataLoader\n",
    "#from ansible.parsing.splitter import parse_kv\n",
    "from ansible.playbook.play import Play\n",
    "#from ansible.plugins import get_all_plugin_loaders\n",
    "#from ansible.utils.vars import load_extra_vars\n",
    "#from ansible.utils.vars import load_options_vars\n",
    "from ansible.vars import VariableManager\n"
   ]
  },
  {
   "cell_type": "code",
   "execution_count": 2,
   "metadata": {
    "collapsed": true
   },
   "outputs": [],
   "source": [
    "variable_manager = VariableManager()"
   ]
  },
  {
   "cell_type": "code",
   "execution_count": 3,
   "metadata": {
    "collapsed": true
   },
   "outputs": [],
   "source": [
    "loader = DataLoader()"
   ]
  },
  {
   "cell_type": "code",
   "execution_count": 4,
   "metadata": {
    "collapsed": true
   },
   "outputs": [],
   "source": [
    "inventory = Inventory(loader=loader, variable_manager=variable_manager)"
   ]
  },
  {
   "cell_type": "code",
   "execution_count": 5,
   "metadata": {
    "collapsed": true
   },
   "outputs": [],
   "source": [
    "passwords = {}"
   ]
  },
  {
   "cell_type": "markdown",
   "metadata": {},
   "source": [
    "An `options` object is needed, many places in code require specific attributes to exist.\n",
    "Could build one but easier to use the CLI arguments parser to provide them."
   ]
  },
  {
   "cell_type": "code",
   "execution_count": 6,
   "metadata": {},
   "outputs": [
    {
     "data": {
      "text/plain": [
       "<Values at 0x7f9197da47b8: {'su': False, 'ask_sudo_pass': False, 'become_method': 'sudo', 'diff': False, 'forks': 5, 'become_ask_pass': False, 'become_user': None, 'sudo_user': None, 'become': False, 'check': False, 'ask_su_pass': False, 'module_path': None, 'sudo': False, 'syntax': None, 'verbosity': 0, 'su_user': None}>"
      ]
     },
     "execution_count": 6,
     "metadata": {},
     "output_type": "execute_result"
    }
   ],
   "source": [
    "#import argparse\n",
    "#options = argparse.Namespace(module_path=None, forks=C.DEFAULT_FORKS, become=C.DEFAULT_BECOME)\n",
    "parser = CLI.base_parser(module_opts=True, fork_opts=True, runas_opts=True, check_opts=True)\n",
    "options, extra_args = parser.parse_args([])\n",
    "options"
   ]
  },
  {
   "cell_type": "code",
   "execution_count": 7,
   "metadata": {
    "collapsed": true
   },
   "outputs": [],
   "source": [
    "def task_queue_manager():\n",
    "    return TaskQueueManager(\n",
    "        inventory=inventory,\n",
    "        variable_manager=variable_manager,\n",
    "        loader=loader,\n",
    "        options=options,\n",
    "        passwords=passwords,\n",
    "        #stdout_callback=cb,\n",
    "        #run_additional_callbacks=C.DEFAULT_LOAD_CALLBACK_PLUGINS,\n",
    "        #run_tree=run_tree,\n",
    "    )\n",
    "tqm = task_queue_manager()"
   ]
  },
  {
   "cell_type": "markdown",
   "metadata": {},
   "source": [
    "## Getting a Play data structure"
   ]
  },
  {
   "cell_type": "code",
   "execution_count": 8,
   "metadata": {
    "collapsed": true
   },
   "outputs": [],
   "source": [
    "import yaml"
   ]
  },
  {
   "cell_type": "code",
   "execution_count": 9,
   "metadata": {},
   "outputs": [
    {
     "data": {
      "text/plain": [
       "[BLOCK(uuid=68f728fa-c3ab-235d-5a18-000000000002)(id=140263294266392)(parent=None)]"
      ]
     },
     "execution_count": 9,
     "metadata": {},
     "output_type": "execute_result"
    }
   ],
   "source": [
    "play1 = Play.load(yaml.load('''\n",
    "hosts: localhost\n",
    "tasks:\n",
    "  - command: zenity --question --text=\"WORKS! Proceed?\"\n",
    "'''))\n",
    "play1.tasks"
   ]
  },
  {
   "cell_type": "code",
   "execution_count": 10,
   "metadata": {},
   "outputs": [
    {
     "name": "stdout",
     "output_type": "stream",
     "text": [
      "\n",
      "PLAY [localhost] ***************************************************************\n",
      "\n",
      "TASK [Gathering Facts] *********************************************************\n",
      "ok: [localhost]\n",
      "\n",
      "TASK [command] *****************************************************************\n",
      "changed: [localhost]\n"
     ]
    },
    {
     "data": {
      "text/plain": [
       "0"
      ]
     },
     "execution_count": 10,
     "metadata": {},
     "output_type": "execute_result"
    }
   ],
   "source": [
    "tqm.run(play1)"
   ]
  },
  {
   "cell_type": "markdown",
   "metadata": {},
   "source": [
    "## TaskQueueManager is stateful\n",
    "Look what happens after a play fails:"
   ]
  },
  {
   "cell_type": "code",
   "execution_count": 19,
   "metadata": {},
   "outputs": [
    {
     "name": "stdout",
     "output_type": "stream",
     "text": [
      "\n",
      "PLAY [localhost] ***************************************************************\n"
     ]
    },
    {
     "data": {
      "text/plain": [
       "2"
      ]
     },
     "execution_count": 19,
     "metadata": {},
     "output_type": "execute_result"
    }
   ],
   "source": [
    "failing_play = Play.load(yaml.load('''\n",
    "hosts: localhost\n",
    "tasks:\n",
    "  - command: 'false'\n",
    "'''))\n",
    "tqm.run(failing_play)"
   ]
  },
  {
   "cell_type": "code",
   "execution_count": 20,
   "metadata": {},
   "outputs": [
    {
     "name": "stdout",
     "output_type": "stream",
     "text": [
      "\n",
      "PLAY [localhost] ***************************************************************\n"
     ]
    },
    {
     "data": {
      "text/plain": [
       "2"
      ]
     },
     "execution_count": 20,
     "metadata": {},
     "output_type": "execute_result"
    }
   ],
   "source": [
    "tqm.run(play1)"
   ]
  },
  {
   "cell_type": "markdown",
   "metadata": {},
   "source": [
    " => tqm will not run anything more, it will just return error exit code :-("
   ]
  },
  {
   "cell_type": "code",
   "execution_count": 21,
   "metadata": {},
   "outputs": [
    {
     "data": {
      "text/plain": [
       "2"
      ]
     },
     "execution_count": 21,
     "metadata": {},
     "output_type": "execute_result"
    }
   ],
   "source": [
    "TaskQueueManager.RUN_FAILED_HOSTS"
   ]
  },
  {
   "cell_type": "markdown",
   "metadata": {},
   "source": [
    "### Make it easier to run"
   ]
  },
  {
   "cell_type": "code",
   "execution_count": 22,
   "metadata": {
    "collapsed": true
   },
   "outputs": [],
   "source": [
    "def run(code):\n",
    "    task_queue_manager().run(Play.load(yaml.load(code)))"
   ]
  },
  {
   "cell_type": "code",
   "execution_count": 23,
   "metadata": {
    "scrolled": true
   },
   "outputs": [
    {
     "ename": "AnsibleParserError",
     "evalue": "the field 'hosts' is required but was not set",
     "output_type": "error",
     "traceback": [
      "\u001b[0;31m---------------------------------------------------------------------------\u001b[0m",
      "\u001b[0;31mAnsibleParserError\u001b[0m                        Traceback (most recent call last)",
      "\u001b[0;32m<ipython-input-23-13f55612f5a0>\u001b[0m in \u001b[0;36m<module>\u001b[0;34m()\u001b[0m\n\u001b[1;32m      2\u001b[0m \u001b[0mtasks\u001b[0m\u001b[0;34m:\u001b[0m\u001b[0;34m\u001b[0m\u001b[0m\n\u001b[1;32m      3\u001b[0m   \u001b[0;34m-\u001b[0m \u001b[0mcommand\u001b[0m\u001b[0;34m:\u001b[0m \u001b[0mecho\u001b[0m \u001b[0mfoo\u001b[0m\u001b[0;34m\u001b[0m\u001b[0m\n\u001b[0;32m----> 4\u001b[0;31m \"\"\")\n\u001b[0m",
      "\u001b[0;32m<ipython-input-22-8802d08bcf6a>\u001b[0m in \u001b[0;36mrun\u001b[0;34m(code)\u001b[0m\n\u001b[1;32m      1\u001b[0m \u001b[0;32mdef\u001b[0m \u001b[0mrun\u001b[0m\u001b[0;34m(\u001b[0m\u001b[0mcode\u001b[0m\u001b[0;34m)\u001b[0m\u001b[0;34m:\u001b[0m\u001b[0;34m\u001b[0m\u001b[0m\n\u001b[0;32m----> 2\u001b[0;31m     \u001b[0mtask_queue_manager\u001b[0m\u001b[0;34m(\u001b[0m\u001b[0;34m)\u001b[0m\u001b[0;34m.\u001b[0m\u001b[0mrun\u001b[0m\u001b[0;34m(\u001b[0m\u001b[0mPlay\u001b[0m\u001b[0;34m.\u001b[0m\u001b[0mload\u001b[0m\u001b[0;34m(\u001b[0m\u001b[0myaml\u001b[0m\u001b[0;34m.\u001b[0m\u001b[0mload\u001b[0m\u001b[0;34m(\u001b[0m\u001b[0mcode\u001b[0m\u001b[0;34m)\u001b[0m\u001b[0;34m)\u001b[0m\u001b[0;34m)\u001b[0m\u001b[0;34m\u001b[0m\u001b[0m\n\u001b[0m",
      "\u001b[0;32m~/ansible/lib/ansible/executor/task_queue_manager.py\u001b[0m in \u001b[0;36mrun\u001b[0;34m(self, play)\u001b[0m\n\u001b[1;32m    215\u001b[0m \u001b[0;34m\u001b[0m\u001b[0m\n\u001b[1;32m    216\u001b[0m         \u001b[0mnew_play\u001b[0m \u001b[0;34m=\u001b[0m \u001b[0mplay\u001b[0m\u001b[0;34m.\u001b[0m\u001b[0mcopy\u001b[0m\u001b[0;34m(\u001b[0m\u001b[0;34m)\u001b[0m\u001b[0;34m\u001b[0m\u001b[0m\n\u001b[0;32m--> 217\u001b[0;31m         \u001b[0mnew_play\u001b[0m\u001b[0;34m.\u001b[0m\u001b[0mpost_validate\u001b[0m\u001b[0;34m(\u001b[0m\u001b[0mtemplar\u001b[0m\u001b[0;34m)\u001b[0m\u001b[0;34m\u001b[0m\u001b[0m\n\u001b[0m\u001b[1;32m    218\u001b[0m         \u001b[0mnew_play\u001b[0m\u001b[0;34m.\u001b[0m\u001b[0mhandlers\u001b[0m \u001b[0;34m=\u001b[0m \u001b[0mnew_play\u001b[0m\u001b[0;34m.\u001b[0m\u001b[0mcompile_roles_handlers\u001b[0m\u001b[0;34m(\u001b[0m\u001b[0;34m)\u001b[0m \u001b[0;34m+\u001b[0m \u001b[0mnew_play\u001b[0m\u001b[0;34m.\u001b[0m\u001b[0mhandlers\u001b[0m\u001b[0;34m\u001b[0m\u001b[0m\n\u001b[1;32m    219\u001b[0m \u001b[0;34m\u001b[0m\u001b[0m\n",
      "\u001b[0;32m~/ansible/lib/ansible/playbook/base.py\u001b[0m in \u001b[0;36mpost_validate\u001b[0;34m(self, templar)\u001b[0m\n\u001b[1;32m    354\u001b[0m                     \u001b[0;32mcontinue\u001b[0m\u001b[0;34m\u001b[0m\u001b[0m\n\u001b[1;32m    355\u001b[0m                 \u001b[0;32melse\u001b[0m\u001b[0;34m:\u001b[0m\u001b[0;34m\u001b[0m\u001b[0m\n\u001b[0;32m--> 356\u001b[0;31m                     \u001b[0;32mraise\u001b[0m \u001b[0mAnsibleParserError\u001b[0m\u001b[0;34m(\u001b[0m\u001b[0;34m\"the field '%s' is required but was not set\"\u001b[0m \u001b[0;34m%\u001b[0m \u001b[0mname\u001b[0m\u001b[0;34m)\u001b[0m\u001b[0;34m\u001b[0m\u001b[0m\n\u001b[0m\u001b[1;32m    357\u001b[0m             \u001b[0;32melif\u001b[0m \u001b[0;32mnot\u001b[0m \u001b[0mattribute\u001b[0m\u001b[0;34m.\u001b[0m\u001b[0malways_post_validate\u001b[0m \u001b[0;32mand\u001b[0m \u001b[0mself\u001b[0m\u001b[0;34m.\u001b[0m\u001b[0m__class__\u001b[0m\u001b[0;34m.\u001b[0m\u001b[0m__name__\u001b[0m \u001b[0;32mnot\u001b[0m \u001b[0;32min\u001b[0m \u001b[0;34m(\u001b[0m\u001b[0;34m'Task'\u001b[0m\u001b[0;34m,\u001b[0m \u001b[0;34m'Handler'\u001b[0m\u001b[0;34m,\u001b[0m \u001b[0;34m'PlayContext'\u001b[0m\u001b[0;34m)\u001b[0m\u001b[0;34m:\u001b[0m\u001b[0;34m\u001b[0m\u001b[0m\n\u001b[1;32m    358\u001b[0m                 \u001b[0;31m# Intermediate objects like Play() won't have their fields validated by\u001b[0m\u001b[0;34m\u001b[0m\u001b[0;34m\u001b[0m\u001b[0m\n",
      "\u001b[0;31mAnsibleParserError\u001b[0m: the field 'hosts' is required but was not set"
     ]
    }
   ],
   "source": [
    "run(\"\"\"\n",
    "tasks:\n",
    "  - command: echo foo\n",
    "\"\"\")"
   ]
  },
  {
   "cell_type": "markdown",
   "metadata": {},
   "source": [
    "Oops.  That was not convenient enough.  Also, what a huge stacktrace :-\n",
    "("
   ]
  },
  {
   "cell_type": "code",
   "execution_count": 24,
   "metadata": {
    "collapsed": true
   },
   "outputs": [],
   "source": [
    "import sys\n",
    "def run(code):\n",
    "    try:\n",
    "        data = yaml.load(code)\n",
    "        play = Play.load(data)\n",
    "        task_queue_manager().run(play)\n",
    "    except (yaml.YAMLError, AnsibleParserError) as e:\n",
    "        print(e, file=sys.stderr)"
   ]
  },
  {
   "cell_type": "code",
   "execution_count": 25,
   "metadata": {},
   "outputs": [
    {
     "name": "stderr",
     "output_type": "stream",
     "text": [
      "mapping values are not allowed here\n",
      "  in \"<unicode string>\", line 3, column 10:\n",
      "    - command: echo foo\n",
      "             ^\n"
     ]
    }
   ],
   "source": [
    "run(\"\"\"\n",
    "tasks\n",
    "- command: echo foo\n",
    "\"\"\")"
   ]
  },
  {
   "cell_type": "code",
   "execution_count": 26,
   "metadata": {},
   "outputs": [
    {
     "name": "stderr",
     "output_type": "stream",
     "text": [
      "the field 'hosts' is required but was not set\n"
     ]
    }
   ],
   "source": [
    "run(\"\"\"\n",
    "tasks:\n",
    "- command: echo foo\n",
    "\"\"\")"
   ]
  },
  {
   "cell_type": "code",
   "execution_count": 27,
   "metadata": {
    "collapsed": true
   },
   "outputs": [],
   "source": [
    "def to_play(code):\n",
    "    \"\"\"Support one task, list of tasks, or whole play without hosts.\"\"\"\n",
    "    data = yaml.load(code)\n",
    "    if isinstance(data, dict) and 'tasks' not in data:\n",
    "        data = [data]\n",
    "    if isinstance(data, list):\n",
    "        data = dict(tasks=data)\n",
    "    if 'hosts' not in data:\n",
    "        data['hosts'] = 'localhost'\n",
    "    return Play.load(data)\n",
    "\n",
    "def run(code):\n",
    "    try:\n",
    "        task_queue_manager().run(to_play(code))\n",
    "    except (yaml.YAMLError, AnsibleParserError) as e:\n",
    "        print(e, file=sys.stderr)\n"
   ]
  },
  {
   "cell_type": "code",
   "execution_count": 28,
   "metadata": {},
   "outputs": [
    {
     "name": "stdout",
     "output_type": "stream",
     "text": [
      "\n",
      "PLAY [localhost] ***************************************************************\n",
      "\n",
      "TASK [Gathering Facts] *********************************************************\n",
      "ok: [localhost]\n",
      "\n",
      "TASK [command] *****************************************************************\n",
      "changed: [localhost]\n"
     ]
    }
   ],
   "source": [
    "run(\"\"\"command: echo foo\"\"\")"
   ]
  },
  {
   "cell_type": "code",
   "execution_count": 29,
   "metadata": {},
   "outputs": [
    {
     "name": "stdout",
     "output_type": "stream",
     "text": [
      "\n",
      "PLAY [localhost] ***************************************************************\n",
      "\n",
      "TASK [Gathering Facts] *********************************************************\n",
      "ok: [localhost]\n",
      "\n",
      "TASK [set_fact] ****************************************************************\n",
      "ok: [localhost]\n"
     ]
    }
   ],
   "source": [
    "run(\"\"\"set_fact: var=1\"\"\")"
   ]
  },
  {
   "cell_type": "code",
   "execution_count": 30,
   "metadata": {},
   "outputs": [
    {
     "name": "stdout",
     "output_type": "stream",
     "text": [
      "\n",
      "PLAY [localhost] ***************************************************************\n",
      "\n",
      "TASK [Gathering Facts] *********************************************************\n",
      "ok: [localhost]\n",
      "\n",
      "TASK [debug] *******************************************************************\n",
      "ok: [localhost] => {\n",
      "    \"changed\": false,\n",
      "    \"msg\": \"1\"\n",
      "}\n"
     ]
    }
   ],
   "source": [
    "run(\"\"\"debug: msg={{var}}\"\"\")"
   ]
  },
  {
   "cell_type": "markdown",
   "metadata": {},
   "source": [
    "## How is a play processed before execution?\n",
    "### Let's consider a more complex play."
   ]
  },
  {
   "cell_type": "code",
   "execution_count": 31,
   "metadata": {
    "scrolled": true
   },
   "outputs": [
    {
     "name": "stdout",
     "output_type": "stream",
     "text": [
      "\n",
      "PLAY [localhost] ***************************************************************\n",
      "\n",
      "TASK [Gathering Facts] *********************************************************\n",
      "ok: [localhost]\n",
      "\n",
      "TASK [debug] *******************************************************************\n",
      "ok: [localhost] => {\n",
      "    \"changed\": false,\n",
      "    \"msg\": \"The\"\n",
      "}\n",
      "\n",
      "TASK [command] *****************************************************************\n",
      "changed: [localhost]\n",
      "\n",
      "TASK [set_fact] ****************************************************************\n",
      "ok: [localhost]\n",
      "\n",
      "TASK [debug] *******************************************************************\n",
      "ok: [localhost] => (item=play_local_variable) => {\n",
      "    \"item\": \"play_local_variable\",\n",
      "    \"play_local_variable\": \"abc\"\n",
      "}\n",
      "ok: [localhost] => (item=pwd_out) => {\n",
      "    \"item\": \"pwd_out\",\n",
      "    \"pwd_out\": {\n",
      "        \"changed\": true,\n",
      "        \"cmd\": [\n",
      "            \"pwd\"\n",
      "        ],\n",
      "        \"delta\": \"0:00:00.003555\",\n",
      "        \"end\": \"2017-06-11 10:37:23.649413\",\n",
      "        \"rc\": 0,\n",
      "        \"start\": \"2017-06-11 10:37:23.645858\",\n",
      "        \"stderr\": \"\",\n",
      "        \"stderr_lines\": [],\n",
      "        \"stdout\": \"/home/bpaskinc/ansible_jupyter_kernel\",\n",
      "        \"stdout_lines\": [\n",
      "            \"/home/bpaskinc/ansible_jupyter_kernel\"\n",
      "        ]\n",
      "    }\n",
      "}\n",
      "ok: [localhost] => (item=global1) => {\n",
      "    \"global1\": \"value1\",\n",
      "    \"item\": \"global1\"\n",
      "}\n",
      "ok: [localhost] => (item=global2) => {\n",
      "    \"global2\": \"value2\",\n",
      "    \"item\": \"global2\"\n",
      "}\n"
     ]
    },
    {
     "data": {
      "text/plain": [
       "0"
      ]
     },
     "execution_count": 31,
     "metadata": {},
     "output_type": "execute_result"
    }
   ],
   "source": [
    "play = to_play('''\n",
    "vars:\n",
    "  play_local_variable: 'abc'\n",
    "  \n",
    "tasks:\n",
    "\n",
    "- debug: 'msg=The var equals {{play_local_variable}}'\n",
    "\n",
    "- command: pwd\n",
    "  register: pwd_out  # Sets a variable\n",
    "\n",
    "- set_fact: global1=value1 global2=value2  # Some more vars\n",
    "\n",
    "- with_items: [play_local_variable, pwd_out, global1, global2]  # A loop!\n",
    "  debug: var={{item}}\n",
    "''')\n",
    "task_queue_manager().run(play)"
   ]
  },
  {
   "cell_type": "markdown",
   "metadata": {},
   "source": [
    "*__Tip__: Ansible objects have `.serialize()`, handy for exploring.*"
   ]
  },
  {
   "cell_type": "code",
   "execution_count": 32,
   "metadata": {
    "scrolled": true
   },
   "outputs": [
    {
     "data": {
      "text/plain": [
       "{'accelerate': False,\n",
       " 'accelerate_ipv6': False,\n",
       " 'accelerate_port': 5099,\n",
       " 'always_run': None,\n",
       " 'any_errors_fatal': False,\n",
       " 'become': None,\n",
       " 'become_flags': None,\n",
       " 'become_method': None,\n",
       " 'become_user': None,\n",
       " 'check_mode': None,\n",
       " 'connection': None,\n",
       " 'environment': None,\n",
       " 'fact_path': None,\n",
       " 'finalized': False,\n",
       " 'force_handlers': None,\n",
       " 'gather_facts': None,\n",
       " 'gather_subset': None,\n",
       " 'gather_timeout': None,\n",
       " 'handlers': [],\n",
       " 'hosts': 'localhost',\n",
       " 'ignore_errors': None,\n",
       " 'included_path': None,\n",
       " 'max_fail_percentage': None,\n",
       " 'name': 'localhost',\n",
       " 'no_log': None,\n",
       " 'port': None,\n",
       " 'post_tasks': [],\n",
       " 'pre_tasks': [],\n",
       " 'remote_user': None,\n",
       " 'roles': [],\n",
       " 'run_once': None,\n",
       " 'serial': [],\n",
       " 'squashed': False,\n",
       " 'strategy': 'linear',\n",
       " 'tags': [],\n",
       " 'tasks': [BLOCK(uuid=68f728fa-c3ab-235d-5a18-0000000000e1)(id=140263238199616)(parent=None)],\n",
       " 'uuid': '68f728fa-c3ab-235d-5a18-0000000000e0',\n",
       " 'vars': {'play_local_variable': 'abc'},\n",
       " 'vars_files': [],\n",
       " 'vars_prompt': [],\n",
       " 'vault_password': None}"
      ]
     },
     "execution_count": 32,
     "metadata": {},
     "output_type": "execute_result"
    }
   ],
   "source": [
    "play.serialize()"
   ]
  },
  {
   "cell_type": "code",
   "execution_count": 33,
   "metadata": {},
   "outputs": [
    {
     "data": {
      "text/plain": [
       "{'play_local_variable': 'abc'}"
      ]
     },
     "execution_count": 33,
     "metadata": {},
     "output_type": "execute_result"
    }
   ],
   "source": [
    "play.get_vars()"
   ]
  },
  {
   "cell_type": "code",
   "execution_count": 34,
   "metadata": {},
   "outputs": [
    {
     "data": {
      "text/plain": [
       "{'ansible_playbook_python': '/usr/bin/python3',\n",
       " 'ansible_version': {'full': '2.3.0.0',\n",
       "  'major': 2,\n",
       "  'minor': 3,\n",
       "  'revision': 0,\n",
       "  'string': '2.3.0.0'},\n",
       " 'hostvars': {},\n",
       " 'omit': '__omit_place_holder__fbafc4fa7c4040051c81cca43b7872f07e0bc7f6',\n",
       " 'play_local_variable': 'abc',\n",
       " 'playbook_dir': '.',\n",
       " 'role_names': [],\n",
       " 'vars': {'ansible_playbook_python': '/usr/bin/python3',\n",
       "  'ansible_version': {'full': '2.3.0.0',\n",
       "   'major': 2,\n",
       "   'minor': 3,\n",
       "   'revision': 0,\n",
       "   'string': '2.3.0.0'},\n",
       "  'hostvars': {},\n",
       "  'omit': '__omit_place_holder__fbafc4fa7c4040051c81cca43b7872f07e0bc7f6',\n",
       "  'play_local_variable': 'abc',\n",
       "  'playbook_dir': '.',\n",
       "  'role_names': []}}"
      ]
     },
     "execution_count": 34,
     "metadata": {},
     "output_type": "execute_result"
    }
   ],
   "source": [
    "variable_manager.get_vars(loader=loader, play=play)"
   ]
  },
  {
   "cell_type": "code",
   "execution_count": 35,
   "metadata": {},
   "outputs": [
    {
     "data": {
      "text/plain": [
       "[BLOCK(uuid=68f728fa-c3ab-235d-5a18-00000000010a)(id=140263237750008)(parent=None),\n",
       " BLOCK(uuid=68f728fa-c3ab-235d-5a18-0000000000e1)(id=140263238199616)(parent=None),\n",
       " BLOCK(uuid=68f728fa-c3ab-235d-5a18-00000000010a)(id=140263237750008)(parent=None),\n",
       " BLOCK(uuid=68f728fa-c3ab-235d-5a18-00000000010a)(id=140263237750008)(parent=None)]"
      ]
     },
     "execution_count": 35,
     "metadata": {},
     "output_type": "execute_result"
    }
   ],
   "source": [
    "play.compile()"
   ]
  },
  {
   "cell_type": "markdown",
   "metadata": {},
   "source": [
    "^^ These are the pre_tasks, roles, tasks, and post_tasks"
   ]
  },
  {
   "cell_type": "code",
   "execution_count": 38,
   "metadata": {},
   "outputs": [
    {
     "data": {
      "text/plain": [
       "[[TASK: meta (flush_handlers)],\n",
       " [TASK: debug, TASK: command, TASK: set_fact, TASK: debug],\n",
       " [TASK: meta (flush_handlers)],\n",
       " [TASK: meta (flush_handlers)]]"
      ]
     },
     "execution_count": 38,
     "metadata": {},
     "output_type": "execute_result"
    }
   ],
   "source": [
    "[list(block.block) for block in play.compile()]\n"
   ]
  },
  {
   "cell_type": "code",
   "execution_count": 41,
   "metadata": {
    "scrolled": true
   },
   "outputs": [
    {
     "ename": "TypeError",
     "evalue": "'Block' object is not iterable",
     "output_type": "error",
     "traceback": [
      "\u001b[0;31m---------------------------------------------------------------------------\u001b[0m",
      "\u001b[0;31mTypeError\u001b[0m                                 Traceback (most recent call last)",
      "\u001b[0;32m<ipython-input-41-d9f86188e97a>\u001b[0m in \u001b[0;36m<module>\u001b[0;34m()\u001b[0m\n\u001b[0;32m----> 1\u001b[0;31m \u001b[0mlist\u001b[0m\u001b[0;34m(\u001b[0m\u001b[0mplay\u001b[0m\u001b[0;34m.\u001b[0m\u001b[0mcompile\u001b[0m\u001b[0;34m(\u001b[0m\u001b[0;34m)\u001b[0m\u001b[0;34m[\u001b[0m\u001b[0;36m1\u001b[0m\u001b[0;34m]\u001b[0m\u001b[0;34m)\u001b[0m\u001b[0;34m\u001b[0m\u001b[0m\n\u001b[0m",
      "\u001b[0;31mTypeError\u001b[0m: 'Block' object is not iterable"
     ]
    }
   ],
   "source": [
    "play.compile()[1].serialize()"
   ]
  },
  {
   "cell_type": "markdown",
   "metadata": {},
   "source": [
    "## Variables"
   ]
  },
  {
   "cell_type": "code",
   "execution_count": null,
   "metadata": {
    "collapsed": true
   },
   "outputs": [],
   "source": [
    "from ansible.vars import preprocess_vars\n",
    "preprocess_vars(yaml.load('''\n",
    "hosts: localhost\n",
    "tasks:\n",
    "  - command: 'false'\n",
    "'''))"
   ]
  },
  {
   "cell_type": "markdown",
   "metadata": {},
   "source": [
    "# Peek under the hood of IPyKernel running *this* notebook?"
   ]
  },
  {
   "cell_type": "code",
   "execution_count": null,
   "metadata": {
    "collapsed": true
   },
   "outputs": [],
   "source": [
    "import sys\n",
    "sorted(sys.modules)"
   ]
  },
  {
   "cell_type": "code",
   "execution_count": null,
   "metadata": {
    "collapsed": true
   },
   "outputs": [],
   "source": [
    "import ipykernel.ipkernel"
   ]
  },
  {
   "cell_type": "code",
   "execution_count": null,
   "metadata": {
    "collapsed": true
   },
   "outputs": [],
   "source": [
    "import gc\n",
    "[obj for obj in gc.get_referrers(ipykernel.ipkernel.IPythonKernel) \n",
    " if isintance(obj,ipykernel.ipkernel.IPythonKernel)]"
   ]
  },
  {
   "cell_type": "code",
   "execution_count": null,
   "metadata": {
    "collapsed": true
   },
   "outputs": [],
   "source": []
  }
 ],
 "metadata": {
  "kernelspec": {
   "display_name": "Python 3",
   "language": "python",
   "name": "python3"
  },
  "language_info": {
   "codemirror_mode": {
    "name": "ipython",
    "version": 3
   },
   "file_extension": ".py",
   "mimetype": "text/x-python",
   "name": "python",
   "nbconvert_exporter": "python",
   "pygments_lexer": "ipython3",
   "version": "3.5.3"
  }
 },
 "nbformat": 4,
 "nbformat_minor": 2
}

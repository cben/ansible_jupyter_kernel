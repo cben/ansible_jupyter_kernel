{
 "cells": [
  {
   "cell_type": "code",
   "execution_count": null,
   "metadata": {},
   "outputs": [],
   "source": [
    "GET http://httpbin.org"
   ]
  },
  {
   "cell_type": "code",
   "execution_count": 2,
   "metadata": {},
   "outputs": [
    {
     "name": "stdout",
     "output_type": "stream",
     "text": [
      "{\n",
      "  \"headers\": {\n",
      "    \"Accept\": \"*/*\", \n",
      "    \"Accept-Encoding\": \"gzip, deflate\", \n",
      "    \"Connection\": \"close\", \n",
      "    \"Host\": \"httpbin.org\", \n",
      "    \"User-Agent\": \"python-requests/2.17.3\"\n",
      "  }\n",
      "}\n"
     ]
    }
   ],
   "source": [
    "GET http://httpbin.org/headers"
   ]
  },
  {
   "cell_type": "code",
   "execution_count": 1,
   "metadata": {
    "scrolled": true
   },
   "outputs": [
    {
     "name": "stdout",
     "output_type": "stream",
     "text": [
      "200\n",
      "Accept-Encoding: gzip, deflate, identity\n",
      "Connection: Keep-Alive\n",
      "Content-Language: en_US\n",
      "Content-Security-Policy: frame-ancestors 'none'\n",
      "Date: Tue, 13 Jun 2017 10:01:10 GMT\n",
      "Keep-Alive: timeout=10\n",
      "Server: CUPS/2.1 IPP/2.1\n",
      "Set-Cookie: org.cups.sid=fad45d9db145a03b03a031ea1afb375f; path=/; httponly;\n",
      "Transfer-Encoding: chunked\n",
      "X-Frame-Options: DENY\n",
      "\n",
      "\n",
      "<!DOCTYPE HTML>\n",
      "<html>\n",
      "  <head>\n",
      "    <link rel=\"stylesheet\" href=\"/cups.css\" type=\"text/css\">\n",
      "    <link rel=\"shortcut icon\" href=\"/apple-touch-icon.png\" type=\"image/png\">\n",
      "    <meta charset=\"utf-8\">\n",
      "    <meta http-equiv=\"Content-Type\" content=\"text/html; charset=utf-8\">\n",
      "    \n",
      "    <meta http-equiv=\"X-UA-Compatible\" content=\"IE=9\">\n",
      "    <meta name=\"viewport\" content=\"width=device-width\">\n",
      "    <style>html{display:none;}</style>\n",
      "    <script type=\"text/javascript\"><!--\n",
      "      /* Only display document if we are not in a frame... */\n",
      "      if (self == top) {\n",
      "        document.documentElement.style.display = 'block';\n",
      "      } else {\n",
      "        top.location = self.location;\n",
      "      }\n",
      "\n",
      "      /* Show an error if cookies are disabled */\n",
      "      function check_cookies() {\n",
      "\tif (!navigator.cookieEnabled) {\n",
      "\t      document.getElementById('body').innerHTML = 'This page uses cookies to prevent common cross-site attacks. Please enable cookies in your browser.';\n",
      "\t}\n",
      "      }\n",
      "    --></SCRIPT>\n",
      "    <title>Printers - CUPS 2.1.4</title>\n",
      "  </head>\n",
      "  <body onload=\"check_cookies();\">\n",
      "    <div class=\"header\">\n",
      "      <ul>\n",
      "\t<li><a href=\"http://www.cups.org/\" target=\"_blank\">CUPS.org</a></li>\n",
      "\t<li><a href=\"/\">Home</a></li>\n",
      "\t<li><a href=\"/admin\">Administration</a></li>\n",
      "\t<li><a href=\"/classes/\">Classes</a></li>\n",
      "\t<li><a href=\"/help/\">Help</a></li>\n",
      "\t<li><a href=\"/jobs/\">Jobs</a></li>\n",
      "\t<li><a class=\"active\" href=\"/printers/\">Printers</a></li>\n",
      "      </ul>\n",
      "    </div>\n",
      "    <div class=\"body\">\n",
      "      <div class=\"row\">\n",
      "\t<h1>Printers</h1>\n",
      "<FORM ACTION=\"/printers/\" METHOD=\"GET\">\n",
      "\n",
      "\n",
      "\n",
      "<P ALIGN=\"CENTER\"><B>Search in\n",
      "Printers:</B>\n",
      "<INPUT TYPE=\"SEARCH\" NAME=\"QUERY\" VALUE=\"\" SIZE=\"40\"  PLACEHOLDER=\"\" AUTOSAVE=\"org.cups.printers\" RESULTS=\"20\"> <INPUT\n",
      "TYPE=\"SUBMIT\" VALUE=\"Search\"> <INPUT TYPE=\"SUBMIT\" NAME=\"CLEAR\" VALUE=\"Clear\"></P>\n",
      "\n",
      "</FORM>\n",
      "<P ALIGN=\"CENTER\">Showing 6 of 6 printers.</P>\n",
      "\n",
      "<TABLE CLASS=\"list\" SUMMARY=\"Printer List\">\n",
      "<THEAD>\n",
      "<TR><TH><A HREF=\"/printers/?QUERY=&amp;WHICH_JOBS=&amp;FIRST={FIRST}&amp;ORDER=dec\"><SMALL>&#x25bc;</SMALL> Queue Name <SMALL>&#x25bc;</SMALL></A></TH><TH>Description</TH><TH>Location</TH><TH>Make and Model</TH><TH>Status</TH></TR>\n",
      "</THEAD>\n",
      "<TBODY>\n",
      "\n",
      "<TR><TD><A HREF=\"/printers/Deskjet-2640-series\">Deskjet-2640-series</A></TD><TD>HP Deskjet 2640 series</TD><TD>reserved-2-248.tlv.redhat.com</TD><TD>HP Deskjet 2640 Series, hpcups 3.17.4</TD><TD>Paused - \"Unplugged or turned off\"</TD></TR>\n",
      "\n",
      "<TR><TD><A HREF=\"/printers/Deskjet-2640-series-Fax-4\">Deskjet-2640-series-Fax-4</A></TD><TD>HP Fax 4</TD><TD>reserved-2-248.tlv.redhat.com</TD><TD>HP Fax4 hpcups</TD><TD>Paused - \"Unplugged or turned off\"</TD></TR>\n",
      "\n",
      "<TR><TD><A HREF=\"http://s01.tlv.redhat.com:631/printers/TLV_F5_Canon_5235i\">TLV_F5_Canon_5235i</A></TD><TD>TLV_F5_Canon_5235i</TD><TD></TD><TD>Remote Printer</TD><TD>Idle</TD></TR>\n",
      "\n",
      "<TR><TD><A HREF=\"http://s01.tlv.redhat.com:631/printers/TLV_F5_Canon_5235i_Color\">TLV_F5_Canon_5235i_Color</A></TD><TD>TLV_F5_Canon_5235i_Color</TD><TD></TD><TD>Remote Printer</TD><TD>Idle</TD></TR>\n",
      "\n",
      "<TR><TD><A HREF=\"/printers/usb-home-HL-2270DW\">usb-home-HL-2270DW</A></TD><TD>usb home Brother HL-2270DW series</TD><TD>ariel home</TD><TD>Brother HL-2250DN - CUPS+Gutenprint v5.2.11 Simplified</TD><TD>Paused - \"Unplugged or turned off\"</TD></TR>\n",
      "\n",
      "<TR><TD><A HREF=\"/printers/wifi-740N-home-HL-2270W\">wifi-740N-home-HL-2270W</A></TD><TD>home Brother HL-2270W - only 740N wifi</TD><TD>home</TD><TD>Generic PCL 6/PCL XL Printer Foomatic/pxlcolor (recommended)</TD><TD>Idle - \"Online\"</TD></TR>\n",
      "\n",
      "</TBODY>\n",
      "</TABLE></DIV>\n",
      "      </div>\n",
      "    </div>\n",
      "    <div class=\"footer\">CUPS and the CUPS logo are trademarks of <a href=\"http://www.apple.com\">Apple Inc.</a> Copyright &copy; 2007-2015 Apple Inc. All rights reserved.</div>\n",
      "  </body>\n",
      "</html>\n"
     ]
    }
   ],
   "source": [
    "GET http://localhost:631/printers"
   ]
  },
  {
   "cell_type": "code",
   "execution_count": null,
   "metadata": {
    "collapsed": true
   },
   "outputs": [],
   "source": [
    "bad syntax"
   ]
  },
  {
   "cell_type": "code",
   "execution_count": null,
   "metadata": {
    "collapsed": true
   },
   "outputs": [],
   "source": []
  }
 ],
 "metadata": {
  "kernelspec": {
   "display_name": "HTTP kernel1",
   "language": "http",
   "name": "http"
  },
  "language_info": {
   "file_extension": ".url",
   "mimetype": "text/plain",
   "name": "http"
  }
 },
 "nbformat": 4,
 "nbformat_minor": 2
}

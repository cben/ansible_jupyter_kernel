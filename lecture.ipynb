{
 "cells": [
  {
   "cell_type": "markdown",
   "metadata": {},
   "source": [
    "<center>\n",
    "<h1>Adding interactivity by extending Jupyter Notebook</h1>\n",
    "<h3>https://github.com/cben, cben@redhat.com</h3>\n",
    "<h2>https://github.com/cben/ansible_jupyter_kernel</h2>\n",
    "</center>"
   ]
  },
  {
   "cell_type": "markdown",
   "metadata": {},
   "source": [
    "1. Extending/improving interactive tools is easy!\n",
    "2. Notebooks\n",
    "3. Jupyter, writing Jupyter Kernels\n",
    "4. Ansible, from the inside\n",
    "5. https://github.com/cben/ansible_jupyter_kernel"
   ]
  },
  {
   "cell_type": "markdown",
   "metadata": {},
   "source": [
    "# Notebook Interface: A better kind of REPLs\n",
    "\n",
    "> Shout-out: AFAIK first introduced by Theodore Gray in Wolfram's Mathematica in 1988.\n",
    "\n",
    "An *executable document*. Somewhat like `doctest`."
   ]
  },
  {
   "cell_type": "code",
   "execution_count": 9,
   "metadata": {
    "collapsed": true
   },
   "outputs": [],
   "source": [
    "fingers = 2 + 2"
   ]
  },
  {
   "cell_type": "code",
   "execution_count": 10,
   "metadata": {},
   "outputs": [
    {
     "name": "stdout",
     "output_type": "stream",
     "text": [
      "I see 4 fingers\n"
     ]
    }
   ],
   "source": [
    "print('I see', fingers, 'fingers')"
   ]
  },
  {
   "cell_type": "markdown",
   "metadata": {},
   "source": [
    "Consists of cells, which you may go back revise and re-execute.\n",
    "This lets you pretty up things, smoothly spanning the range from throwaway code to something to come back to, iterate on, and share.\n",
    "\n",
    "- Can execute *out of order* (note `In[n]` numbers on the left).  This risks inconsistent, irreproducible results, but has pragmatic benefits (think long computations)..."
   ]
  },
  {
   "cell_type": "markdown",
   "metadata": {},
   "source": [
    "# Jupyter Notebook\n",
    "\n",
    "Formerly IPython Notebook, rebranded to emphasize multi-language ecosystem"
   ]
  },
  {
   "cell_type": "markdown",
   "metadata": {},
   "source": [
    "```\n",
    "browser <-> jupyter-notebook server <-> language \"kernel\"  \n",
    " ^                                        ^\n",
    "nbextensions                            IPython kernel/Metakernel extensions/magics\n",
    "```\n",
    "\n",
    "There are multiple extension points [http://mindtrove.info/4-ways-to-extend-jupyter-notebook/].\n",
    "\n",
    "This talk focuses on writing a \"kernel\", Jupyter's term for a backend executing a new language — or whatever *you decide* should be treated like a language!    \n",
    "List of existing kernels (>80 as of 2017) : https://github.com/jupyter/jupyter/wiki/Jupyter-kernels"
   ]
  },
  {
   "cell_type": "markdown",
   "metadata": {},
   "source": [
    "## Roads to implement a Jupyter kernel\n",
    "\n",
    "1. In any language, implement [connection](https://jupyter-client.readthedocs.io/en/latest/kernels.html) and the [wire protocol](https://jupyter-client.readthedocs.io/en/latest/messaging.html): JSON over ZMQ.  Example: https://github.com/dsblank/simple_kernel\n",
    "\n",
    "2. **In Python, [reusing existing machinery](https://jupyter-client.readthedocs.io/en/latest/wrapperkernels.html)** — subclass `ipykernel.kernelbase.Kernel`, define a few methods `do_execute`, `do_complete`, `do_inspect`...\n",
    "\n",
    "3. In Python, reusing even more [\"Metakernel\"](https://github.com/Calysto/metakernel) machinery.  Gives rich shared functionality, most notably [various `%magic` syntaxes](https://github.com/Calysto/metakernel/blob/master/metakernel/magics/README.md).\n",
    "\n",
    "  - Lecture by Nicolas Kruchten on \"magics\", including implementing new ones: https://2015.pycon.ca/en/schedule/33/ "
   ]
  },
  {
   "cell_type": "markdown",
   "metadata": {},
   "source": [
    "# Simple example: HTTP client kernel\n",
    "\n",
    "HTTP is not exactly a programming language, but have you ever done a long series of `curl` commands to explore some web API?\n",
    "\n",
    "Let's see what it takes to build a very Jupyter kernel doing HTTP — and whether it results in something that's nice to use.\n",
    "\n",
    "It's convenient to flesh out the behavior inside this notebook before actually running as a kernel."
   ]
  },
  {
   "cell_type": "code",
   "execution_count": 50,
   "metadata": {},
   "outputs": [],
   "source": [
    "import requests\n",
    "import pprint\n",
    "\n",
    "def do_execute(code):\n",
    "    \"\"\"\n",
    "    GET http://google.com\n",
    "    \"\"\"\n",
    "    http_method, url = code.split(None, 1)\n",
    "    assert http_method == 'GET'\n",
    "    response = requests.get(url)\n",
    "    print(response.status_code)\n",
    "    for h, v in sorted(response.headers.items()):\n",
    "        print(\"{h}: {v}\".format(h=h, v=v))\n",
    "    print()\n",
    "    print(response.text)"
   ]
  },
  {
   "cell_type": "code",
   "execution_count": 47,
   "metadata": {
    "scrolled": true
   },
   "outputs": [
    {
     "name": "stdout",
     "output_type": "stream",
     "text": [
      "200\n",
      "Accept-Encoding: gzip, deflate, identity\n",
      "Connection: Keep-Alive\n",
      "Content-Language: en_US\n",
      "Content-Length: 2361\n",
      "Content-Security-Policy: frame-ancestors 'none'\n",
      "Content-Type: text/html; charset=utf-8\n",
      "Date: Tue, 13 Jun 2017 09:49:42 GMT\n",
      "Keep-Alive: timeout=10\n",
      "Last-Modified: Thu, 27 Apr 2017 08:49:28 GMT\n",
      "Server: CUPS/2.1 IPP/2.1\n",
      "X-Frame-Options: DENY\n",
      "\n",
      "<!DOCTYPE HTML>\n",
      "<html>\n",
      "  <head>\n",
      "    <link rel=\"stylesheet\" href=\"/cups.css\" type=\"text/css\">\n",
      "    <link rel=\"shortcut icon\" href=\"/apple-touch-icon.png\" type=\"image/png\">\n",
      "    <meta charset=\"utf-8\">\n",
      "    <meta http-equiv=\"Content-Type\" content=\"text/html; charset=utf-8\">\n",
      "    <meta http-equiv=\"X-UA-Compatible\" content=\"IE=9\">\n",
      "    <meta name=\"viewport\" content=\"width=device-width\">\n",
      "    <title>Home - CUPS 2.1.4</title>\n",
      "  </head>\n",
      "  <body>\n",
      "    <div class=\"header\">\n",
      "      <ul>\n",
      "\t<li><a href=\"http://www.cups.org/\" target=\"_blank\">CUPS.org</a></li>\n",
      "\t<li><a class=\"active\" href=\"/\">Home</a></li>\n",
      "\t<li><a href=\"/admin\">Administration</a></li>\n",
      "\t<li><a href=\"/classes/\">Classes</a></li>\n",
      "\t<li><a href=\"/help/\">Help</a></li>\n",
      "\t<li><a href=\"/jobs/\">Jobs</a></li>\n",
      "\t<li><a href=\"/printers/\">Printers</a></li>\n",
      "      </ul>\n",
      "    </div>\n",
      "    <div class=\"body\">\n",
      "      <div class=\"row\">\n",
      "\t<h1>CUPS 2.1.4</h1>\n",
      "\t<p>CUPS is the standards-based, open source printing system developed by <a href=\"http://www.apple.com/\">Apple Inc.</a> for OS X<sup>&reg;</sup> and other UNIX<sup>&reg;</sup>-like operating systems.</p>\n",
      "      </div>\n",
      "      <div class=\"row\">\n",
      "\t<div class=\"thirds\">\n",
      "\t  <h2>CUPS for Users</h2>\n",
      "\t  <p><a href=\"help/overview.html\">Overview of CUPS</a></p>\n",
      "\t  <p><a href=\"help/options.html\">Command-Line Printing and Options</a></p>\n",
      "\t  <p><a href=\"http://www.cups.org/lists.php?LIST=cups\">User Forum</a></p>\n",
      "\t</div>\n",
      "\t<div class=\"thirds\">\n",
      "\t  <h2>CUPS for Administrators</h2>\n",
      "\t  <p><a href=\"admin\">Adding Printers and Classes</a></p>\n",
      "\t  <p><a href=\"help/policies.html\">Managing Operation Policies</a></p>\n",
      "\t  <p><a href=\"help/network.html\">Using Network Printers</a></p>\n",
      "\t  <p><a href=\"help/man-cupsd.conf.html\">cupsd.conf Reference</a></p>\n",
      "\t</div>\n",
      "\t<div class=\"thirds\">\n",
      "\t  <h2>CUPS for Developers</h2>\n",
      "\t  <p><a href=\"help/api-overview.html\">Introduction to CUPS Programming</a></p>\n",
      "\t  <p><a href=\"help/api-cups.html\">CUPS API</a></p>\n",
      "\t  <p><a href=\"help/api-filter.html\">Filter and Backend Programming</a></p>\n",
      "\t  <p><a href=\"help/api-httpipp.html\">HTTP and IPP APIs</a></p>\n",
      "\t  <p><a href=\"http://www.cups.org/lists.php?LIST=cups-devel\">Developer Forum</a></p>\n",
      "\t</div>\n",
      "      </div>\n",
      "    </div>\n",
      "    <div class=\"footer\">CUPS and the CUPS logo are trademarks of <a href=\"http://www.apple.com\">Apple Inc.</a> Copyright &copy; 2007-2015 Apple Inc. All rights reserved.</div>\n",
      "  </body>\n",
      "</html>\n",
      "\n"
     ]
    }
   ],
   "source": [
    "do_execute('GET http://localhost:631')"
   ]
  },
  {
   "cell_type": "code",
   "execution_count": 49,
   "metadata": {
    "scrolled": true
   },
   "outputs": [
    {
     "name": "stdout",
     "output_type": "stream",
     "text": [
      "404\n",
      "Accept-Encoding: gzip, deflate, identity\n",
      "Connection: close\n",
      "Content-Language: en_US\n",
      "Content-Length: 342\n",
      "Content-Security-Policy: frame-ancestors 'none'\n",
      "Content-Type: text/html; charset=utf-8\n",
      "Date: Tue, 13 Jun 2017 09:50:49 GMT\n",
      "Server: CUPS/2.1 IPP/2.1\n",
      "X-Frame-Options: DENY\n",
      "\n",
      "<!DOCTYPE HTML PUBLIC \"-//W3C//DTD HTML 4.01 Transitional//EN\" \"http://www.w3.org/TR/html4/loose.dtd\">\n",
      "<HTML>\n",
      "<HEAD>\n",
      "\t<META HTTP-EQUIV=\"Content-Type\" CONTENT=\"text/html; charset=utf-8\">\n",
      "\t<TITLE>Not Found - CUPS v2.1.4</TITLE>\n",
      "\t<LINK REL=\"STYLESHEET\" TYPE=\"text/css\" HREF=\"/cups.css\">\n",
      "</HEAD>\n",
      "<BODY>\n",
      "<H1>Not Found</H1>\n",
      "<P></P>\n",
      "</BODY>\n",
      "</HTML>\n",
      "\n"
     ]
    }
   ],
   "source": [
    "do_execute('GET http://localhost:631/NO_SUCH_PAGE')"
   ]
  },
  {
   "cell_type": "markdown",
   "metadata": {},
   "source": [
    "### Good, let's try it as a kernel\n",
    "\n",
    "The quick and very dirty way (we'll do it better later)"
   ]
  },
  {
   "cell_type": "code",
   "execution_count": 51,
   "metadata": {
    "collapsed": true
   },
   "outputs": [],
   "source": [
    "!mkdir -p ~/.local/share/jupyter/kernels/http"
   ]
  },
  {
   "cell_type": "code",
   "execution_count": 52,
   "metadata": {},
   "outputs": [
    {
     "name": "stdout",
     "output_type": "stream",
     "text": [
      "Overwriting /home/bpaskinc/.local/share/jupyter/kernels/http/kernel.json\n"
     ]
    }
   ],
   "source": [
    "%%writefile ~/.local/share/jupyter/kernels/http/kernel.json\n",
    "{\n",
    "    \"argv\": [\"python\", \"/tmp/kernel1.py\", \"-f\", \"{connection_file}\"],\n",
    "    \"display_name\": \"HTTP kernel1\",\n",
    "    \"language\": \"http\"\n",
    "}"
   ]
  },
  {
   "cell_type": "code",
   "execution_count": 53,
   "metadata": {},
   "outputs": [
    {
     "name": "stdout",
     "output_type": "stream",
     "text": [
      "Overwriting /tmp/kernel1.py\n"
     ]
    }
   ],
   "source": [
    "%%writefile /tmp/kernel1.py\n",
    "import requests\n",
    "\n",
    "from ipykernel.kernelbase import Kernel\n",
    "\n",
    "class HTTPKernel(Kernel):\n",
    "    implementation = 'http_kernel'\n",
    "    implementation_version = '0.1'\n",
    "    language = 'HTTP'\n",
    "    language_version = '1.1'  # TODO: plug in Hyper to support HTTP/2.0\n",
    "    language_info = dict(\n",
    "        name = 'http',\n",
    "        mimetype = 'text/plain',\n",
    "        file_extension = '.url',\n",
    "    )\n",
    "    banner = \"HTTP kernel - WIP\"\n",
    "\n",
    "    def stream(self, text, name='stdout'):\n",
    "        self.send_response(self.iopub_socket, 'stream',\n",
    "                           dict(name='stdout', text=text))\n",
    "    \n",
    "    def do_execute(self, code, silent, store_history=True, user_expressions=None, allow_stdin=False):\n",
    "        \"\"\"\n",
    "        GET http://google.com\n",
    "        \"\"\"\n",
    "        http_method, url = code.split(None, 1)\n",
    "        assert http_method == 'GET'\n",
    "        response = requests.get(url)\n",
    "\n",
    "        if not silent:\n",
    "            self.stream('{}\\n'.format(response.status_code))\n",
    "            headers = \"\".join(\"{h}: {v}\\n\".format(h=h, v=v) \n",
    "                              for h, v in sorted(response.headers.items()))\n",
    "            self.stream(headers + '\\n\\n')\n",
    "            self.stream(response.text)\n",
    "\n",
    "        return dict(\n",
    "            status='ok',\n",
    "            # The base class increments the execution count\n",
    "            execution_count=self.execution_count,\n",
    "            payload=[],\n",
    "            user_expressions={},\n",
    "        )\n",
    "\n",
    "if __name__ == '__main__':\n",
    "    from ipykernel.kernelapp import IPKernelApp\n",
    "    IPKernelApp.launch_instance(kernel_class=HTTPKernel)"
   ]
  },
  {
   "cell_type": "code",
   "execution_count": null,
   "metadata": {
    "collapsed": true
   },
   "outputs": [],
   "source": []
  },
  {
   "cell_type": "code",
   "execution_count": 8,
   "metadata": {},
   "outputs": [
    {
     "data": {
      "text/plain": [
       "['http://www.cups.org/',\n",
       " 'http://www.apple.com/',\n",
       " 'http://www.cups.org/lists.php?LIST=cups',\n",
       " 'http://www.cups.org/lists.php?LIST=cups-devel',\n",
       " 'http://www.apple.com']"
      ]
     },
     "execution_count": 8,
     "metadata": {},
     "output_type": "execute_result"
    }
   ],
   "source": [
    "import re, requests\n",
    "text = requests.get('http://localhost:631').text\n",
    "url_re = r'https?://[^\"\\'<>]*'\n",
    "re.findall(url_re, text)"
   ]
  },
  {
   "cell_type": "markdown",
   "metadata": {},
   "source": [
    "----\n",
    "\n",
    "# Playing with ansible API"
   ]
  },
  {
   "cell_type": "markdown",
   "metadata": {},
   "source": [
    "- https://docs.ansible.com/ansible/dev_guide/developing_api.html\n",
    "\n",
    "- https://www.ansible.com/blog/how-to-extend-ansible-through-plugins — excellent overview of ansible extension points\n",
    "\n",
    "- <img alt=\"Extending Ansible cover\" src=\"Extending_Ansible_cover.jpg\" style=\"width: 20%; float: right\">\n",
    "  [*Extending Ansible* book][3] by Rishabh Das (2016, I think describes pre-2.0?)  \n",
    "  Free sample including API chapter at https://www.ansible.com/extending-ansible\n",
    "\n",
    "- [`lib/ansible/adhoc.py`][1] and [`lib/ansible/playbook.py`][2] are simple usage examples.\n",
    "\n",
    "[1]: https://github.com/ansible/ansible/blob/devel/lib/ansible/cli/adhoc.py\n",
    "[2]: https://github.com/ansible/ansible/blob/devel/lib/ansible/cli/playbook.py\n",
    "[3]: https://www.packtpub.com/networking-and-servers/extending-ansible"
   ]
  },
  {
   "cell_type": "code",
   "execution_count": 3,
   "metadata": {
    "collapsed": true
   },
   "outputs": [],
   "source": [
    "from ansible import constants as C\n",
    "from ansible.cli import CLI\n",
    "from ansible.errors import AnsibleError, AnsibleOptionsError, AnsibleParserError\n",
    "from ansible.executor.task_queue_manager import TaskQueueManager\n",
    "from ansible.inventory import Inventory\n",
    "#from ansible.module_utils._text import to_text\n",
    "from ansible.parsing.dataloader import DataLoader\n",
    "#from ansible.parsing.splitter import parse_kv\n",
    "from ansible.playbook.play import Play\n",
    "#from ansible.plugins import get_all_plugin_loaders\n",
    "#from ansible.utils.vars import load_extra_vars\n",
    "#from ansible.utils.vars import load_options_vars\n",
    "from ansible.vars import VariableManager\n"
   ]
  },
  {
   "cell_type": "code",
   "execution_count": 4,
   "metadata": {
    "collapsed": true
   },
   "outputs": [],
   "source": [
    "variable_manager = VariableManager()"
   ]
  },
  {
   "cell_type": "code",
   "execution_count": 5,
   "metadata": {
    "collapsed": true
   },
   "outputs": [],
   "source": [
    "loader = DataLoader()"
   ]
  },
  {
   "cell_type": "code",
   "execution_count": 6,
   "metadata": {
    "collapsed": true
   },
   "outputs": [],
   "source": [
    "inventory = Inventory(loader=loader, variable_manager=variable_manager)"
   ]
  },
  {
   "cell_type": "code",
   "execution_count": 7,
   "metadata": {
    "collapsed": true
   },
   "outputs": [],
   "source": [
    "passwords = {}"
   ]
  },
  {
   "cell_type": "markdown",
   "metadata": {},
   "source": [
    "An `options` object is needed, many places in code require specific attributes to exist.\n",
    "Could build one but easier to use the CLI arguments parser to provide them."
   ]
  },
  {
   "cell_type": "code",
   "execution_count": 8,
   "metadata": {},
   "outputs": [
    {
     "data": {
      "text/plain": [
       "<Values at 0x7fcd3c0bd400: {'forks': 5, 'syntax': None, 'check': False, 'ask_sudo_pass': False, 'ask_su_pass': False, 'module_path': None, 'sudo_user': None, 'su_user': None, 'become_user': None, 'verbosity': 0, 'su': False, 'become_method': 'sudo', 'become': False, 'become_ask_pass': False, 'diff': False, 'sudo': False}>"
      ]
     },
     "execution_count": 8,
     "metadata": {},
     "output_type": "execute_result"
    }
   ],
   "source": [
    "#import argparse\n",
    "#options = argparse.Namespace(module_path=None, forks=C.DEFAULT_FORKS, become=C.DEFAULT_BECOME)\n",
    "parser = CLI.base_parser(module_opts=True, fork_opts=True, runas_opts=True, check_opts=True)\n",
    "options, extra_args = parser.parse_args([])\n",
    "options"
   ]
  },
  {
   "cell_type": "code",
   "execution_count": 9,
   "metadata": {
    "collapsed": true
   },
   "outputs": [],
   "source": [
    "def task_queue_manager():\n",
    "    return TaskQueueManager(\n",
    "        inventory=inventory,\n",
    "        variable_manager=variable_manager,\n",
    "        loader=loader,\n",
    "        options=options,\n",
    "        passwords=passwords,\n",
    "        #stdout_callback=cb,\n",
    "        #run_additional_callbacks=C.DEFAULT_LOAD_CALLBACK_PLUGINS,\n",
    "        #run_tree=run_tree,\n",
    "    )\n",
    "tqm = task_queue_manager()"
   ]
  },
  {
   "cell_type": "markdown",
   "metadata": {},
   "source": [
    "## Getting a Play data structure"
   ]
  },
  {
   "cell_type": "code",
   "execution_count": 10,
   "metadata": {
    "collapsed": true
   },
   "outputs": [],
   "source": [
    "import yaml"
   ]
  },
  {
   "cell_type": "code",
   "execution_count": 11,
   "metadata": {},
   "outputs": [
    {
     "data": {
      "text/plain": [
       "[BLOCK(uuid=5ce0c5be-8647-ed5f-bbc2-000000000002)(id=140519452022992)(parent=None)]"
      ]
     },
     "execution_count": 11,
     "metadata": {},
     "output_type": "execute_result"
    }
   ],
   "source": [
    "play1 = Play.load(yaml.load('''\n",
    "hosts: localhost\n",
    "tasks:\n",
    "  - command: zenity --question --text=\"WORKS! Proceed?\"\n",
    "'''))\n",
    "play1.tasks"
   ]
  },
  {
   "cell_type": "code",
   "execution_count": 12,
   "metadata": {},
   "outputs": [
    {
     "name": "stdout",
     "output_type": "stream",
     "text": [
      "\n",
      "PLAY [localhost] ***************************************************************\n",
      "\n",
      "TASK [Gathering Facts] *********************************************************\n",
      "ok: [localhost]\n",
      "\n",
      "TASK [command] *****************************************************************\n",
      "fatal: [localhost]: FAILED! => {\"changed\": true, \"cmd\": [\"zenity\", \"--question\", \"--text=WORKS! Proceed?\"], \"delta\": \"0:18:59.850413\", \"end\": \"2017-06-13 00:16:46.971777\", \"failed\": true, \"rc\": 1, \"start\": \"2017-06-12 23:57:47.121364\", \"stderr\": \"Gtk-Message: GtkDialog mapped without a transient parent. This is discouraged.\", \"stderr_lines\": [\"Gtk-Message: GtkDialog mapped without a transient parent. This is discouraged.\"], \"stdout\": \"\", \"stdout_lines\": []}\n"
     ]
    },
    {
     "data": {
      "text/plain": [
       "2"
      ]
     },
     "execution_count": 12,
     "metadata": {},
     "output_type": "execute_result"
    }
   ],
   "source": [
    "tqm.run(play1)"
   ]
  },
  {
   "cell_type": "markdown",
   "metadata": {},
   "source": [
    "## TaskQueueManager is stateful\n",
    "Look what happens after a play fails:"
   ]
  },
  {
   "cell_type": "code",
   "execution_count": 13,
   "metadata": {},
   "outputs": [
    {
     "name": "stdout",
     "output_type": "stream",
     "text": [
      "\n",
      "PLAY [localhost] ***************************************************************\n"
     ]
    },
    {
     "data": {
      "text/plain": [
       "2"
      ]
     },
     "execution_count": 13,
     "metadata": {},
     "output_type": "execute_result"
    }
   ],
   "source": [
    "failing_play = Play.load(yaml.load('''\n",
    "hosts: localhost\n",
    "tasks:\n",
    "  - command: 'false'\n",
    "'''))\n",
    "tqm.run(failing_play)"
   ]
  },
  {
   "cell_type": "code",
   "execution_count": 14,
   "metadata": {},
   "outputs": [
    {
     "name": "stdout",
     "output_type": "stream",
     "text": [
      "\n",
      "PLAY [localhost] ***************************************************************\n"
     ]
    },
    {
     "data": {
      "text/plain": [
       "2"
      ]
     },
     "execution_count": 14,
     "metadata": {},
     "output_type": "execute_result"
    }
   ],
   "source": [
    "tqm.run(play1)"
   ]
  },
  {
   "cell_type": "markdown",
   "metadata": {},
   "source": [
    " => tqm will not run anything more, it will just return error exit code :-("
   ]
  },
  {
   "cell_type": "code",
   "execution_count": 15,
   "metadata": {},
   "outputs": [
    {
     "data": {
      "text/plain": [
       "2"
      ]
     },
     "execution_count": 15,
     "metadata": {},
     "output_type": "execute_result"
    }
   ],
   "source": [
    "TaskQueueManager.RUN_FAILED_HOSTS"
   ]
  },
  {
   "cell_type": "markdown",
   "metadata": {},
   "source": [
    "### Two solutions\n",
    "1. Create new TaskQueueManager every time.\n",
    "2. `tqm.clear_failed_hosts()`."
   ]
  },
  {
   "cell_type": "markdown",
   "metadata": {},
   "source": [
    "### Make it easier to run"
   ]
  },
  {
   "cell_type": "code",
   "execution_count": 16,
   "metadata": {
    "collapsed": true
   },
   "outputs": [],
   "source": [
    "def run(code):\n",
    "    play = Play.load(yaml.safe_load(code))\n",
    "    task_queue_manager().run(play)"
   ]
  },
  {
   "cell_type": "code",
   "execution_count": 17,
   "metadata": {
    "scrolled": true
   },
   "outputs": [
    {
     "ename": "AnsibleParserError",
     "evalue": "the field 'hosts' is required but was not set",
     "output_type": "error",
     "traceback": [
      "\u001b[0;31m---------------------------------------------------------------------------\u001b[0m",
      "\u001b[0;31mAnsibleParserError\u001b[0m                        Traceback (most recent call last)",
      "\u001b[0;32m<ipython-input-17-13f55612f5a0>\u001b[0m in \u001b[0;36m<module>\u001b[0;34m()\u001b[0m\n\u001b[1;32m      2\u001b[0m \u001b[0mtasks\u001b[0m\u001b[0;34m:\u001b[0m\u001b[0;34m\u001b[0m\u001b[0m\n\u001b[1;32m      3\u001b[0m   \u001b[0;34m-\u001b[0m \u001b[0mcommand\u001b[0m\u001b[0;34m:\u001b[0m \u001b[0mecho\u001b[0m \u001b[0mfoo\u001b[0m\u001b[0;34m\u001b[0m\u001b[0m\n\u001b[0;32m----> 4\u001b[0;31m \"\"\")\n\u001b[0m",
      "\u001b[0;32m<ipython-input-16-08dafe763aec>\u001b[0m in \u001b[0;36mrun\u001b[0;34m(code)\u001b[0m\n\u001b[1;32m      1\u001b[0m \u001b[0;32mdef\u001b[0m \u001b[0mrun\u001b[0m\u001b[0;34m(\u001b[0m\u001b[0mcode\u001b[0m\u001b[0;34m)\u001b[0m\u001b[0;34m:\u001b[0m\u001b[0;34m\u001b[0m\u001b[0m\n\u001b[1;32m      2\u001b[0m     \u001b[0mplay\u001b[0m \u001b[0;34m=\u001b[0m \u001b[0mPlay\u001b[0m\u001b[0;34m.\u001b[0m\u001b[0mload\u001b[0m\u001b[0;34m(\u001b[0m\u001b[0myaml\u001b[0m\u001b[0;34m.\u001b[0m\u001b[0msafe_load\u001b[0m\u001b[0;34m(\u001b[0m\u001b[0mcode\u001b[0m\u001b[0;34m)\u001b[0m\u001b[0;34m)\u001b[0m\u001b[0;34m\u001b[0m\u001b[0m\n\u001b[0;32m----> 3\u001b[0;31m     \u001b[0mtask_queue_manager\u001b[0m\u001b[0;34m(\u001b[0m\u001b[0;34m)\u001b[0m\u001b[0;34m.\u001b[0m\u001b[0mrun\u001b[0m\u001b[0;34m(\u001b[0m\u001b[0mplay\u001b[0m\u001b[0;34m)\u001b[0m\u001b[0;34m\u001b[0m\u001b[0m\n\u001b[0m",
      "\u001b[0;32m~/ansible_jupyter_kernel/venv/lib/python3.5/site-packages/ansible/executor/task_queue_manager.py\u001b[0m in \u001b[0;36mrun\u001b[0;34m(self, play)\u001b[0m\n\u001b[1;32m    215\u001b[0m \u001b[0;34m\u001b[0m\u001b[0m\n\u001b[1;32m    216\u001b[0m         \u001b[0mnew_play\u001b[0m \u001b[0;34m=\u001b[0m \u001b[0mplay\u001b[0m\u001b[0;34m.\u001b[0m\u001b[0mcopy\u001b[0m\u001b[0;34m(\u001b[0m\u001b[0;34m)\u001b[0m\u001b[0;34m\u001b[0m\u001b[0m\n\u001b[0;32m--> 217\u001b[0;31m         \u001b[0mnew_play\u001b[0m\u001b[0;34m.\u001b[0m\u001b[0mpost_validate\u001b[0m\u001b[0;34m(\u001b[0m\u001b[0mtemplar\u001b[0m\u001b[0;34m)\u001b[0m\u001b[0;34m\u001b[0m\u001b[0m\n\u001b[0m\u001b[1;32m    218\u001b[0m         \u001b[0mnew_play\u001b[0m\u001b[0;34m.\u001b[0m\u001b[0mhandlers\u001b[0m \u001b[0;34m=\u001b[0m \u001b[0mnew_play\u001b[0m\u001b[0;34m.\u001b[0m\u001b[0mcompile_roles_handlers\u001b[0m\u001b[0;34m(\u001b[0m\u001b[0;34m)\u001b[0m \u001b[0;34m+\u001b[0m \u001b[0mnew_play\u001b[0m\u001b[0;34m.\u001b[0m\u001b[0mhandlers\u001b[0m\u001b[0;34m\u001b[0m\u001b[0m\n\u001b[1;32m    219\u001b[0m \u001b[0;34m\u001b[0m\u001b[0m\n",
      "\u001b[0;32m~/ansible_jupyter_kernel/venv/lib/python3.5/site-packages/ansible/playbook/base.py\u001b[0m in \u001b[0;36mpost_validate\u001b[0;34m(self, templar)\u001b[0m\n\u001b[1;32m    354\u001b[0m                     \u001b[0;32mcontinue\u001b[0m\u001b[0;34m\u001b[0m\u001b[0m\n\u001b[1;32m    355\u001b[0m                 \u001b[0;32melse\u001b[0m\u001b[0;34m:\u001b[0m\u001b[0;34m\u001b[0m\u001b[0m\n\u001b[0;32m--> 356\u001b[0;31m                     \u001b[0;32mraise\u001b[0m \u001b[0mAnsibleParserError\u001b[0m\u001b[0;34m(\u001b[0m\u001b[0;34m\"the field '%s' is required but was not set\"\u001b[0m \u001b[0;34m%\u001b[0m \u001b[0mname\u001b[0m\u001b[0;34m)\u001b[0m\u001b[0;34m\u001b[0m\u001b[0m\n\u001b[0m\u001b[1;32m    357\u001b[0m             \u001b[0;32melif\u001b[0m \u001b[0;32mnot\u001b[0m \u001b[0mattribute\u001b[0m\u001b[0;34m.\u001b[0m\u001b[0malways_post_validate\u001b[0m \u001b[0;32mand\u001b[0m \u001b[0mself\u001b[0m\u001b[0;34m.\u001b[0m\u001b[0m__class__\u001b[0m\u001b[0;34m.\u001b[0m\u001b[0m__name__\u001b[0m \u001b[0;32mnot\u001b[0m \u001b[0;32min\u001b[0m \u001b[0;34m(\u001b[0m\u001b[0;34m'Task'\u001b[0m\u001b[0;34m,\u001b[0m \u001b[0;34m'Handler'\u001b[0m\u001b[0;34m,\u001b[0m \u001b[0;34m'PlayContext'\u001b[0m\u001b[0;34m)\u001b[0m\u001b[0;34m:\u001b[0m\u001b[0;34m\u001b[0m\u001b[0m\n\u001b[1;32m    358\u001b[0m                 \u001b[0;31m# Intermediate objects like Play() won't have their fields validated by\u001b[0m\u001b[0;34m\u001b[0m\u001b[0;34m\u001b[0m\u001b[0m\n",
      "\u001b[0;31mAnsibleParserError\u001b[0m: the field 'hosts' is required but was not set"
     ]
    }
   ],
   "source": [
    "run(\"\"\"\n",
    "tasks:\n",
    "  - command: echo foo\n",
    "\"\"\")"
   ]
  },
  {
   "cell_type": "markdown",
   "metadata": {},
   "source": [
    "Oops.  That was not convenient enough.  Also, what a huge stacktrace :-("
   ]
  },
  {
   "cell_type": "code",
   "execution_count": null,
   "metadata": {
    "collapsed": true
   },
   "outputs": [],
   "source": [
    "import sys\n",
    "import traceback\n",
    "def run(code):\n",
    "    try:\n",
    "        play = Play.load(yaml.load(code))\n",
    "        task_queue_manager().run(play)\n",
    "    except (yaml.YAMLError, AnsibleParserError) as e:\n",
    "        # Printing errors will look different in a Jupyter kernel, but for now stderr is fine.\n",
    "        print(''.join(traceback.format_exception_only(type(e), e)), file=sys.stderr)"
   ]
  },
  {
   "cell_type": "code",
   "execution_count": null,
   "metadata": {
    "collapsed": true
   },
   "outputs": [],
   "source": [
    "run(\"\"\"\n",
    "tasks\n",
    "- syntax error: missing semicolon above after `tasks`\n",
    "\"\"\")"
   ]
  },
  {
   "cell_type": "code",
   "execution_count": null,
   "metadata": {
    "collapsed": true
   },
   "outputs": [],
   "source": [
    "run(\"\"\"\n",
    "tasks:\n",
    "- command: echo foo\n",
    "\"\"\")"
   ]
  },
  {
   "cell_type": "markdown",
   "metadata": {},
   "source": [
    "Okay, much better errors!  Back to making it easy to write simple plays:"
   ]
  },
  {
   "cell_type": "code",
   "execution_count": null,
   "metadata": {
    "collapsed": true
   },
   "outputs": [],
   "source": [
    "def play_from_code(code):\n",
    "    \"\"\"Support one task, list of tasks, or whole play without hosts.\"\"\"\n",
    "    data = orig_data = yaml.safe_load(code)\n",
    "    if isinstance(data, dict) and 'tasks' not in data:\n",
    "        data = [data]\n",
    "    if isinstance(data, list):\n",
    "        data = dict(tasks=data)\n",
    "    if not isinstance(data, dict):\n",
    "        raise AnsibleParserError(\"Expected task, list of tasks, or play, got {}\".format(type(orig_data)))\n",
    "    if 'hosts' not in data:\n",
    "        data['hosts'] = 'localhost'\n",
    "    return Play.load(data)\n",
    "\n",
    "def run(code):\n",
    "    try:\n",
    "        task_queue_manager().run(play_from_code(code))\n",
    "    except (yaml.YAMLError, AnsibleParserError) as e:\n",
    "        # Printing errors will look different in a Jupyter kernel, but for now stderr is fine.\n",
    "        print(''.join(traceback.format_exception_only(type(e), e)), file=sys.stderr)"
   ]
  },
  {
   "cell_type": "code",
   "execution_count": null,
   "metadata": {
    "collapsed": true
   },
   "outputs": [],
   "source": [
    "run(\"\"\"command: echo foo\"\"\")"
   ]
  },
  {
   "cell_type": "markdown",
   "metadata": {},
   "source": [
    "### Have we solved stateful TQM the right way?\n",
    "We're using a fresh `TaskQueueManager` every time, so do we still carry *any* state from cell to cell?\n",
    "Can we set a variable and later use it?"
   ]
  },
  {
   "cell_type": "code",
   "execution_count": null,
   "metadata": {
    "collapsed": true
   },
   "outputs": [],
   "source": [
    "run(\"\"\"set_fact: var=1\"\"\")"
   ]
  },
  {
   "cell_type": "code",
   "execution_count": null,
   "metadata": {
    "collapsed": true
   },
   "outputs": [],
   "source": [
    "run(\"\"\"debug: msg={{var}}\"\"\")"
   ]
  },
  {
   "cell_type": "markdown",
   "metadata": {},
   "source": [
    "# TODO UNSOLVED\n",
    "Wait, what's that \"Gathering Facts\" from localhost every time?"
   ]
  },
  {
   "cell_type": "code",
   "execution_count": null,
   "metadata": {
    "collapsed": true
   },
   "outputs": [],
   "source": [
    "def run(code):\n",
    "    try:\n",
    "        tqm.clear_failed_hosts()\n",
    "        tqm.run(play_from_code(code))\n",
    "    except (yaml.YAMLError, AnsibleParserError) as e:\n",
    "        # Printing errors will look different in a Jupyter kernel, but for now stderr is fine.\n",
    "        print(e, file=sys.stderr)\n"
   ]
  },
  {
   "cell_type": "code",
   "execution_count": null,
   "metadata": {
    "collapsed": true
   },
   "outputs": [],
   "source": [
    "run(\"\"\"debug: msg={{var}}\"\"\")"
   ]
  },
  {
   "cell_type": "markdown",
   "metadata": {},
   "source": [
    "## How is a play processed before execution?\n",
    "### Let's consider a more complex play."
   ]
  },
  {
   "cell_type": "code",
   "execution_count": null,
   "metadata": {
    "collapsed": true,
    "scrolled": true
   },
   "outputs": [],
   "source": [
    "play = to_play('''\n",
    "vars:\n",
    "  play_local_variable: 'abc'\n",
    "  \n",
    "tasks:\n",
    "\n",
    "- debug: 'msg=The var equals {{play_local_variable}}'\n",
    "\n",
    "- command: pwd\n",
    "  register: pwd_out  # Sets a variable\n",
    "\n",
    "- set_fact: global1=value1 global2=value2  # Some more vars\n",
    "\n",
    "- with_items: [play_local_variable, pwd_out, global1, global2]  # A loop!\n",
    "  debug: var={{item}}\n",
    "''')\n",
    "task_queue_manager().run(play)"
   ]
  },
  {
   "cell_type": "markdown",
   "metadata": {},
   "source": [
    "*__Tip__: Ansible objects have `.serialize()`, handy for exploring.*"
   ]
  },
  {
   "cell_type": "code",
   "execution_count": null,
   "metadata": {
    "collapsed": true,
    "scrolled": true
   },
   "outputs": [],
   "source": [
    "play.serialize()"
   ]
  },
  {
   "cell_type": "code",
   "execution_count": null,
   "metadata": {
    "collapsed": true
   },
   "outputs": [],
   "source": [
    "play.get_vars()"
   ]
  },
  {
   "cell_type": "code",
   "execution_count": null,
   "metadata": {
    "collapsed": true
   },
   "outputs": [],
   "source": [
    "variable_manager.get_vars(loader=loader, play=play)"
   ]
  },
  {
   "cell_type": "code",
   "execution_count": null,
   "metadata": {
    "collapsed": true
   },
   "outputs": [],
   "source": [
    "play.compile()"
   ]
  },
  {
   "cell_type": "markdown",
   "metadata": {},
   "source": [
    "^^ These are the pre_tasks, roles, tasks, and post_tasks"
   ]
  },
  {
   "cell_type": "code",
   "execution_count": null,
   "metadata": {
    "collapsed": true
   },
   "outputs": [],
   "source": [
    "[list(block.block) for block in play.compile()]\n"
   ]
  },
  {
   "cell_type": "code",
   "execution_count": null,
   "metadata": {
    "collapsed": true,
    "scrolled": true
   },
   "outputs": [],
   "source": [
    "play.compile()[1].serialize()"
   ]
  },
  {
   "cell_type": "markdown",
   "metadata": {},
   "source": [
    "## Variables"
   ]
  },
  {
   "cell_type": "code",
   "execution_count": null,
   "metadata": {
    "collapsed": true
   },
   "outputs": [],
   "source": [
    "from ansible.vars import preprocess_vars\n",
    "preprocess_vars(yaml.load('''\n",
    "hosts: localhost\n",
    "tasks:\n",
    "  - command: 'false'\n",
    "'''))"
   ]
  },
  {
   "cell_type": "markdown",
   "metadata": {},
   "source": [
    "# Peek under the hood of IPyKernel running *this* notebook?"
   ]
  },
  {
   "cell_type": "code",
   "execution_count": null,
   "metadata": {
    "collapsed": true
   },
   "outputs": [],
   "source": [
    "import sys\n",
    "sorted(sys.modules)"
   ]
  },
  {
   "cell_type": "code",
   "execution_count": null,
   "metadata": {
    "collapsed": true
   },
   "outputs": [],
   "source": [
    "import ipykernel.ipkernel"
   ]
  },
  {
   "cell_type": "code",
   "execution_count": null,
   "metadata": {
    "collapsed": true
   },
   "outputs": [],
   "source": [
    "import gc\n",
    "[obj for obj in gc.get_referrers(ipykernel.ipkernel.IPythonKernel) \n",
    " if isintance(obj,ipykernel.ipkernel.IPythonKernel)]"
   ]
  },
  {
   "cell_type": "markdown",
   "metadata": {},
   "source": [
    "https://github.com/Calysto/metakernel/blob/master/metakernel/magics/README.md"
   ]
  },
  {
   "cell_type": "code",
   "execution_count": null,
   "metadata": {
    "collapsed": true
   },
   "outputs": [],
   "source": [
    "%connect_info"
   ]
  },
  {
   "cell_type": "code",
   "execution_count": null,
   "metadata": {
    "collapsed": true
   },
   "outputs": [],
   "source": []
  }
 ],
 "metadata": {
  "kernelspec": {
   "display_name": "Python 3",
   "language": "python",
   "name": "python3"
  },
  "language_info": {
   "codemirror_mode": {
    "name": "ipython",
    "version": 3
   },
   "file_extension": ".py",
   "mimetype": "text/x-python",
   "name": "python",
   "nbconvert_exporter": "python",
   "pygments_lexer": "ipython3",
   "version": "3.5.3"
  }
 },
 "nbformat": 4,
 "nbformat_minor": 2
}
